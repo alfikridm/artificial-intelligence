{
 "cells": [
  {
   "cell_type": "code",
   "execution_count": 30,
   "metadata": {},
   "outputs": [],
   "source": [
    "# artificial neural network with keras tutorial\n",
    "\n",
    "from numpy import loadtxt\n",
    "from keras.models import Sequential\n",
    "from keras.layers import Dense\n",
    "from keras.utils.vis_utils import plot_model\n",
    "import matplotlib.pyplot as plt\n",
    "import pandas as pd\n"
   ]
  },
  {
   "cell_type": "code",
   "execution_count": 3,
   "metadata": {},
   "outputs": [
    {
     "ename": "NameError",
     "evalue": "name 'pandas' is not defined",
     "output_type": "error",
     "traceback": [
      "\u001b[1;31m---------------------------------------------------------------------------\u001b[0m",
      "\u001b[1;31mNameError\u001b[0m                                 Traceback (most recent call last)",
      "\u001b[1;32m<ipython-input-3-200a20a9de78>\u001b[0m in \u001b[0;36m<module>\u001b[1;34m\u001b[0m\n\u001b[0;32m      1\u001b[0m \u001b[1;31m######## load the dataset #########\u001b[0m\u001b[1;33m\u001b[0m\u001b[1;33m\u001b[0m\u001b[1;33m\u001b[0m\u001b[0m\n\u001b[1;32m----> 2\u001b[1;33m \u001b[0mdataframe\u001b[0m \u001b[1;33m=\u001b[0m \u001b[0mpandas\u001b[0m\u001b[1;33m.\u001b[0m\u001b[0mread_csv\u001b[0m\u001b[1;33m(\u001b[0m\u001b[1;34m\"winequality-red.csv\"\u001b[0m\u001b[1;33m)\u001b[0m\u001b[1;33m\u001b[0m\u001b[1;33m\u001b[0m\u001b[0m\n\u001b[0m\u001b[0;32m      3\u001b[0m \u001b[0mdataset\u001b[0m \u001b[1;33m=\u001b[0m \u001b[0mdataframe\u001b[0m\u001b[1;33m.\u001b[0m\u001b[0mvalues\u001b[0m\u001b[1;33m\u001b[0m\u001b[1;33m\u001b[0m\u001b[0m\n\u001b[0;32m      4\u001b[0m \u001b[1;31m#dataset = loadtxt('winequality-red.csv', delimiter=',')\u001b[0m\u001b[1;33m\u001b[0m\u001b[1;33m\u001b[0m\u001b[1;33m\u001b[0m\u001b[0m\n",
      "\u001b[1;31mNameError\u001b[0m: name 'pandas' is not defined"
     ]
    }
   ],
   "source": [
    "######## load the dataset #########\n",
    "dataframe = pandas.read_csv(\"winequality-red.csv\")\n",
    "dataset = dataframe.values\n",
    "#dataset = loadtxt('winequality-red.csv', delimiter=',')\n"
   ]
  },
  {
   "cell_type": "code",
   "execution_count": 34,
   "metadata": {},
   "outputs": [],
   "source": [
    "\n",
    "#There are eight input variables and one output variable (the last column).\n",
    "#The variables can be summarized as follows:\n",
    "\n",
    "X = dataset[:,0:8] #Input Variables (X):\n",
    "#1. Number of times pregnant\n",
    "#2. Plasma glucose concentration a 2 hours in an oral glucose tolerance test\n",
    "#3. Diastolic blood pressure (mm Hg)\n",
    "#4. Triceps skin fold thickness (mm)\n",
    "#5. 2-Hour serum insulin (mu U/ml)\n",
    "#6. Body mass index (weight in kg/(height in m)^2)\n",
    "#7. Diabetes pedigree function\n",
    "#8. Age (years)\n",
    "\n",
    "y = dataset[:,8] #Output Variables (y):\n",
    "#1. Class variable (0 or 1)\n",
    "\n",
    "#print(X)\n",
    "#print(y)\n",
    "###################################\n",
    "\n"
   ]
  },
  {
   "cell_type": "code",
   "execution_count": 36,
   "metadata": {},
   "outputs": [],
   "source": [
    "######### define the keras model ##########\n",
    "model = Sequential() # --> refer to https://keras.io/getting-started/sequential-model-guide/\n",
    "\n",
    "#We will use a fully-connected network structure with three layers\n",
    "# 1st hidden layer has 12 nodes and uses the ReLU activation function\n",
    "model.add(Dense(12, input_dim=8, activation='relu'))\n",
    "# 2nd hidden layer has 8 nodes and uses the ReLU activation function\n",
    "model.add(Dense(8, activation='relu'))\n",
    "# output layer has one node and uses the sigmoid activation function\n",
    "model.add(Dense(1, activation='sigmoid')) # example of \"binary classification\"\n"
   ]
  },
  {
   "cell_type": "code",
   "execution_count": 38,
   "metadata": {},
   "outputs": [
    {
     "name": "stdout",
     "output_type": "stream",
     "text": [
      "Accuracy: 66.93\n",
      "X=[' 6' ' 98' '72' '35' '  0' '22.6' '0.227' '50'], Predicted=0\n",
      "X=[' 1' '185' '66' '29' '  0' '26.6' '0.151' '31'], Predicted=0\n",
      "X=[' 8' '113' '64' ' 0' '  0' '23.3' '0.472' '32'], Predicted=0\n",
      "X=[' 1' ' 89' '66' '23' '  0' '28.1' '0.167' '21'], Predicted=0\n",
      "X=[' 0' ' 87' '40' '35' '118' '43.1' '2.188' '33'], Predicted=0\n",
      "X=[' 5' '116' '74' ' 0' ' 94' '25.6' '0.201' '30'], Predicted=0\n",
      "X=[' 3' ' 78' '50' '32' ' 88' '31.0' '0.248' '26'], Predicted=0\n",
      "X=['10' ' 75' ' 0' '26' '  0' '35.3' '0.134' '29'], Predicted=0\n",
      "X=[' 2' '197' '70' '45' '243' '30.5' '0.158' '53'], Predicted=1\n",
      "X=[' 8' ' 95' '96' ' 0' '  0' '22.1' '0.332' '54'], Predicted=0\n"
     ]
    }
   ],
   "source": [
    "\n",
    "#print(model.summary()) # summarize a model\n",
    "#plot_model(model, to_file='model_plot.png', show_shapes=True, show_layer_names=True) # visualize the model\n",
    "###########################################\n",
    "\n",
    "######### compile the keras model #########\n",
    "model.compile(loss='binary_crossentropy', optimizer='adam', metrics=['accuracy'])\n",
    "\n",
    "# refer here for more:\n",
    "# https://keras.io/getting-started/sequential-model-guide/\n",
    "# https://machinelearningmastery.com/how-to-choose-loss-functions-when-training-deep-learning-neural-networks/\n",
    "###########################################\n",
    "\n",
    "### fit the keras model on the dataset ###\n",
    "#model.fit(X, y, epochs=150, batch_size=10)\n",
    "model.fit(X, y, epochs=10, batch_size=11, verbose=0)\n",
    "\n",
    "# The batch size is a hyperparameter that defines the number of samples\n",
    "# to work through before updating the internal model parameters.\n",
    "\n",
    "# The number of epochs is a hyperparameter that defines the number times\n",
    "# that the learning algorithm will work through the entire training dataset.\n",
    "###########################################\n",
    "\n",
    "######## evaluate the keras model ########\n",
    "#_, accuracy = model.evaluate(X, y)\n",
    "_, accuracy = model.evaluate(X, y, verbose=0)\n",
    "print('Accuracy: %.2f' % (accuracy*100))\n",
    "###########################################\n",
    "\n",
    "##### Display Deep Learning Model Training History in Keras #####\n",
    "#history = model.fit(X, y, validation_split=0.33, epochs=150, batch_size=10, verbose=0)\n",
    "#print(history.history.keys())\n",
    "\n",
    "# summarize history for accuracy\n",
    "# We can see that the model could probably be trained a little more\n",
    "# as the trend for accuracy on both datasets is still rising for the last few epochs.\n",
    "# We can also see that the model has not yet over-learned the training dataset,\n",
    "# showing comparable skill on both datasets.\n",
    "#plt.plot(history.history['accuracy'])\n",
    "#plt.plot(history.history['val_accuracy'])\n",
    "#plt.title('model accuracy')\n",
    "#plt.ylabel('accuracy')\n",
    "#plt.xlabel('epoch')\n",
    "#plt.legend(['train', 'test'], loc='upper left')\n",
    "#plt.show()\n",
    "\n",
    "# summarize history for loss\n",
    "# We can see that the model has comparable performance on both train\n",
    "# and validation datasets (labeled test\n",
    "#plt.plot(history.history['loss'])\n",
    "#plt.plot(history.history['val_loss'])\n",
    "#plt.title('model loss')\n",
    "#plt.ylabel('loss')\n",
    "#plt.xlabel('epoch')\n",
    "#plt.legend(['train', 'test'], loc='upper left')\n",
    "#plt.show()\n",
    "##################################################################\n",
    "\n",
    "# make class predictions with the model ##\n",
    "Xnew = loadtxt('diabetes_newdata.csv', delimiter=',', dtype='str')\n",
    "ynew = model.predict_classes(Xnew)\n",
    "\n",
    "for i in range(len(Xnew)):\n",
    "    print(\"X=%s, Predicted=%d\" % (Xnew[i], ynew[i]))\n",
    "###########################################\n"
   ]
  },
  {
   "cell_type": "code",
   "execution_count": 39,
   "metadata": {},
   "outputs": [
    {
     "data": {
      "text/plain": [
       "array([[' 6', ' 98', '72', '35', '  0', '22.6', '0.227', '50'],\n",
       "       [' 1', '185', '66', '29', '  0', '26.6', '0.151', '31'],\n",
       "       [' 8', '113', '64', ' 0', '  0', '23.3', '0.472', '32'],\n",
       "       [' 1', ' 89', '66', '23', '  0', '28.1', '0.167', '21'],\n",
       "       [' 0', ' 87', '40', '35', '118', '43.1', '2.188', '33'],\n",
       "       [' 5', '116', '74', ' 0', ' 94', '25.6', '0.201', '30'],\n",
       "       [' 3', ' 78', '50', '32', ' 88', '31.0', '0.248', '26'],\n",
       "       ['10', ' 75', ' 0', '26', '  0', '35.3', '0.134', '29'],\n",
       "       [' 2', '197', '70', '45', '243', '30.5', '0.158', '53'],\n",
       "       [' 8', ' 95', '96', ' 0', '  0', '22.1', '0.332', '54']],\n",
       "      dtype='<U5')"
      ]
     },
     "execution_count": 39,
     "metadata": {},
     "output_type": "execute_result"
    }
   ],
   "source": [
    "Xnew"
   ]
  },
  {
   "cell_type": "code",
   "execution_count": 40,
   "metadata": {},
   "outputs": [
    {
     "data": {
      "text/plain": [
       "array([[  6.   , 148.   ,  72.   , ...,  33.6  ,   0.627,  50.   ],\n",
       "       [  1.   ,  85.   ,  66.   , ...,  26.6  ,   0.351,  31.   ],\n",
       "       [  8.   , 183.   ,  64.   , ...,  23.3  ,   0.672,  32.   ],\n",
       "       ...,\n",
       "       [  5.   , 121.   ,  72.   , ...,  26.2  ,   0.245,  30.   ],\n",
       "       [  1.   , 126.   ,  60.   , ...,  30.1  ,   0.349,  47.   ],\n",
       "       [  1.   ,  93.   ,  70.   , ...,  30.4  ,   0.315,  23.   ]])"
      ]
     },
     "execution_count": 40,
     "metadata": {},
     "output_type": "execute_result"
    }
   ],
   "source": [
    "X"
   ]
  },
  {
   "cell_type": "code",
   "execution_count": null,
   "metadata": {},
   "outputs": [],
   "source": []
  }
 ],
 "metadata": {
  "kernelspec": {
   "display_name": "Python 3",
   "language": "python",
   "name": "python3"
  },
  "language_info": {
   "codemirror_mode": {
    "name": "ipython",
    "version": 3
   },
   "file_extension": ".py",
   "mimetype": "text/x-python",
   "name": "python",
   "nbconvert_exporter": "python",
   "pygments_lexer": "ipython3",
   "version": "3.7.4"
  }
 },
 "nbformat": 4,
 "nbformat_minor": 2
}
