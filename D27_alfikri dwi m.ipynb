{
 "cells": [
  {
   "cell_type": "code",
   "execution_count": 1,
   "metadata": {},
   "outputs": [
    {
     "data": {
      "text/plain": [
       "['guido@python.org', 'guido@google.com']"
      ]
     },
     "execution_count": 1,
     "metadata": {},
     "output_type": "execute_result"
    }
   ],
   "source": [
    "import re\n",
    "email = re.compile('\\w+@\\w+\\.[a-z]{3}')\n",
    "text = 'To email Guido, try guido@python.org or the older address guido@google.com'\n",
    "email.findall(text)"
   ]
  },
  {
   "cell_type": "code",
   "execution_count": null,
   "metadata": {},
   "outputs": [],
   "source": []
  },
  {
   "cell_type": "code",
   "execution_count": 2,
   "metadata": {},
   "outputs": [],
   "source": [
    "text_mask = email.sub('_email_', text)"
   ]
  },
  {
   "cell_type": "code",
   "execution_count": 3,
   "metadata": {},
   "outputs": [
    {
     "data": {
      "text/plain": [
       "'To email Guido, try _email_ or the older address _email_'"
      ]
     },
     "execution_count": 3,
     "metadata": {},
     "output_type": "execute_result"
    }
   ],
   "source": [
    "text_mask"
   ]
  },
  {
   "cell_type": "code",
   "execution_count": 4,
   "metadata": {},
   "outputs": [],
   "source": [
    "from sklearn.feature_extraction.text import CountVectorizer"
   ]
  },
  {
   "cell_type": "code",
   "execution_count": 5,
   "metadata": {},
   "outputs": [
    {
     "name": "stdout",
     "output_type": "stream",
     "text": [
      "{'the': 7, 'quick': 6, 'brown': 0, 'fox': 2, 'jumped': 3, 'over': 5, 'lazy': 4, 'dog': 1}\n",
      "  (0, 0)\t1\n",
      "  (0, 1)\t1\n",
      "  (0, 2)\t1\n",
      "  (0, 3)\t1\n",
      "  (0, 4)\t1\n",
      "  (0, 5)\t1\n",
      "  (0, 6)\t1\n",
      "  (0, 7)\t2\n",
      "(1, 8)\n",
      "<class 'scipy.sparse.csr.csr_matrix'>\n",
      "[[1 1 1 1 1 1 1 2]]\n"
     ]
    }
   ],
   "source": [
    "text = ['The quick brown fox jumped over the lazy dog']\n",
    "vectorizer = CountVectorizer()\n",
    "vectorizer.fit(text)\n",
    "print(vectorizer.vocabulary_)\n",
    "vector = vectorizer.transform(text)\n",
    "print(vector)\n",
    "print(vector.shape)\n",
    "print(type(vector))\n",
    "print(vector.toarray())"
   ]
  },
  {
   "cell_type": "code",
   "execution_count": 6,
   "metadata": {},
   "outputs": [
    {
     "name": "stdout",
     "output_type": "stream",
     "text": [
      "(1, 8)\n",
      "<class 'scipy.sparse.csr.csr_matrix'>\n",
      "[[1 1 1 1 1 1 1 2]]\n",
      "{'the': 7, 'quick': 6, 'brown': 0, 'fox': 2, 'jumped': 3, 'over': 5, 'lazy': 4, 'dog': 1}\n"
     ]
    }
   ],
   "source": [
    "vectorizer2 = CountVectorizer()\n",
    "vector2 = vectorizer2.fit_transform(text)\n",
    "print(vector.shape)\n",
    "print(type(vector))\n",
    "print(vector.toarray())\n",
    "print(vectorizer2.vocabulary_)"
   ]
  },
  {
   "cell_type": "code",
   "execution_count": 7,
   "metadata": {},
   "outputs": [
    {
     "data": {
      "text/html": [
       "<div>\n",
       "<style scoped>\n",
       "    .dataframe tbody tr th:only-of-type {\n",
       "        vertical-align: middle;\n",
       "    }\n",
       "\n",
       "    .dataframe tbody tr th {\n",
       "        vertical-align: top;\n",
       "    }\n",
       "\n",
       "    .dataframe thead th {\n",
       "        text-align: right;\n",
       "    }\n",
       "</style>\n",
       "<table border=\"1\" class=\"dataframe\">\n",
       "  <thead>\n",
       "    <tr style=\"text-align: right;\">\n",
       "      <th></th>\n",
       "      <th>v1</th>\n",
       "      <th>v2</th>\n",
       "      <th>Unnamed: 2</th>\n",
       "      <th>Unnamed: 3</th>\n",
       "      <th>Unnamed: 4</th>\n",
       "    </tr>\n",
       "  </thead>\n",
       "  <tbody>\n",
       "    <tr>\n",
       "      <th>0</th>\n",
       "      <td>ham</td>\n",
       "      <td>Go until jurong point, crazy.. Available only ...</td>\n",
       "      <td>NaN</td>\n",
       "      <td>NaN</td>\n",
       "      <td>NaN</td>\n",
       "    </tr>\n",
       "    <tr>\n",
       "      <th>1</th>\n",
       "      <td>ham</td>\n",
       "      <td>Ok lar... Joking wif u oni...</td>\n",
       "      <td>NaN</td>\n",
       "      <td>NaN</td>\n",
       "      <td>NaN</td>\n",
       "    </tr>\n",
       "    <tr>\n",
       "      <th>2</th>\n",
       "      <td>spam</td>\n",
       "      <td>Free entry in 2 a wkly comp to win FA Cup fina...</td>\n",
       "      <td>NaN</td>\n",
       "      <td>NaN</td>\n",
       "      <td>NaN</td>\n",
       "    </tr>\n",
       "    <tr>\n",
       "      <th>3</th>\n",
       "      <td>ham</td>\n",
       "      <td>U dun say so early hor... U c already then say...</td>\n",
       "      <td>NaN</td>\n",
       "      <td>NaN</td>\n",
       "      <td>NaN</td>\n",
       "    </tr>\n",
       "    <tr>\n",
       "      <th>4</th>\n",
       "      <td>ham</td>\n",
       "      <td>Nah I don't think he goes to usf, he lives aro...</td>\n",
       "      <td>NaN</td>\n",
       "      <td>NaN</td>\n",
       "      <td>NaN</td>\n",
       "    </tr>\n",
       "  </tbody>\n",
       "</table>\n",
       "</div>"
      ],
      "text/plain": [
       "     v1                                                 v2 Unnamed: 2  \\\n",
       "0   ham  Go until jurong point, crazy.. Available only ...        NaN   \n",
       "1   ham                      Ok lar... Joking wif u oni...        NaN   \n",
       "2  spam  Free entry in 2 a wkly comp to win FA Cup fina...        NaN   \n",
       "3   ham  U dun say so early hor... U c already then say...        NaN   \n",
       "4   ham  Nah I don't think he goes to usf, he lives aro...        NaN   \n",
       "\n",
       "  Unnamed: 3 Unnamed: 4  \n",
       "0        NaN        NaN  \n",
       "1        NaN        NaN  \n",
       "2        NaN        NaN  \n",
       "3        NaN        NaN  \n",
       "4        NaN        NaN  "
      ]
     },
     "execution_count": 7,
     "metadata": {},
     "output_type": "execute_result"
    }
   ],
   "source": [
    "import pandas as pd\n",
    "data = pd.read_csv('spam.csv', encoding='latin-1')\n",
    "data.head()"
   ]
  },
  {
   "cell_type": "code",
   "execution_count": 8,
   "metadata": {},
   "outputs": [
    {
     "data": {
      "text/html": [
       "<div>\n",
       "<style scoped>\n",
       "    .dataframe tbody tr th:only-of-type {\n",
       "        vertical-align: middle;\n",
       "    }\n",
       "\n",
       "    .dataframe tbody tr th {\n",
       "        vertical-align: top;\n",
       "    }\n",
       "\n",
       "    .dataframe thead th {\n",
       "        text-align: right;\n",
       "    }\n",
       "</style>\n",
       "<table border=\"1\" class=\"dataframe\">\n",
       "  <thead>\n",
       "    <tr style=\"text-align: right;\">\n",
       "      <th></th>\n",
       "      <th>label</th>\n",
       "      <th>text</th>\n",
       "      <th>t1</th>\n",
       "      <th>t2</th>\n",
       "      <th>t3</th>\n",
       "    </tr>\n",
       "  </thead>\n",
       "  <tbody>\n",
       "    <tr>\n",
       "      <th>0</th>\n",
       "      <td>ham</td>\n",
       "      <td>Go until jurong point, crazy.. Available only ...</td>\n",
       "      <td>NaN</td>\n",
       "      <td>NaN</td>\n",
       "      <td>NaN</td>\n",
       "    </tr>\n",
       "    <tr>\n",
       "      <th>1</th>\n",
       "      <td>ham</td>\n",
       "      <td>Ok lar... Joking wif u oni...</td>\n",
       "      <td>NaN</td>\n",
       "      <td>NaN</td>\n",
       "      <td>NaN</td>\n",
       "    </tr>\n",
       "    <tr>\n",
       "      <th>2</th>\n",
       "      <td>spam</td>\n",
       "      <td>Free entry in 2 a wkly comp to win FA Cup fina...</td>\n",
       "      <td>NaN</td>\n",
       "      <td>NaN</td>\n",
       "      <td>NaN</td>\n",
       "    </tr>\n",
       "    <tr>\n",
       "      <th>3</th>\n",
       "      <td>ham</td>\n",
       "      <td>U dun say so early hor... U c already then say...</td>\n",
       "      <td>NaN</td>\n",
       "      <td>NaN</td>\n",
       "      <td>NaN</td>\n",
       "    </tr>\n",
       "    <tr>\n",
       "      <th>4</th>\n",
       "      <td>ham</td>\n",
       "      <td>Nah I don't think he goes to usf, he lives aro...</td>\n",
       "      <td>NaN</td>\n",
       "      <td>NaN</td>\n",
       "      <td>NaN</td>\n",
       "    </tr>\n",
       "  </tbody>\n",
       "</table>\n",
       "</div>"
      ],
      "text/plain": [
       "  label                                               text   t1   t2   t3\n",
       "0   ham  Go until jurong point, crazy.. Available only ...  NaN  NaN  NaN\n",
       "1   ham                      Ok lar... Joking wif u oni...  NaN  NaN  NaN\n",
       "2  spam  Free entry in 2 a wkly comp to win FA Cup fina...  NaN  NaN  NaN\n",
       "3   ham  U dun say so early hor... U c already then say...  NaN  NaN  NaN\n",
       "4   ham  Nah I don't think he goes to usf, he lives aro...  NaN  NaN  NaN"
      ]
     },
     "execution_count": 8,
     "metadata": {},
     "output_type": "execute_result"
    }
   ],
   "source": [
    "data.columns = ['label', 'text', 't1', 't2', 't3']\n",
    "data.head()"
   ]
  },
  {
   "cell_type": "code",
   "execution_count": 9,
   "metadata": {},
   "outputs": [
    {
     "data": {
      "text/html": [
       "<div>\n",
       "<style scoped>\n",
       "    .dataframe tbody tr th:only-of-type {\n",
       "        vertical-align: middle;\n",
       "    }\n",
       "\n",
       "    .dataframe tbody tr th {\n",
       "        vertical-align: top;\n",
       "    }\n",
       "\n",
       "    .dataframe thead th {\n",
       "        text-align: right;\n",
       "    }\n",
       "</style>\n",
       "<table border=\"1\" class=\"dataframe\">\n",
       "  <thead>\n",
       "    <tr style=\"text-align: right;\">\n",
       "      <th></th>\n",
       "      <th>text</th>\n",
       "      <th>t1</th>\n",
       "      <th>t2</th>\n",
       "      <th>t3</th>\n",
       "    </tr>\n",
       "    <tr>\n",
       "      <th>label</th>\n",
       "      <th></th>\n",
       "      <th></th>\n",
       "      <th></th>\n",
       "      <th></th>\n",
       "    </tr>\n",
       "  </thead>\n",
       "  <tbody>\n",
       "    <tr>\n",
       "      <th>ham</th>\n",
       "      <td>4825</td>\n",
       "      <td>45</td>\n",
       "      <td>10</td>\n",
       "      <td>6</td>\n",
       "    </tr>\n",
       "    <tr>\n",
       "      <th>spam</th>\n",
       "      <td>747</td>\n",
       "      <td>5</td>\n",
       "      <td>2</td>\n",
       "      <td>0</td>\n",
       "    </tr>\n",
       "  </tbody>\n",
       "</table>\n",
       "</div>"
      ],
      "text/plain": [
       "       text  t1  t2  t3\n",
       "label                  \n",
       "ham    4825  45  10   6\n",
       "spam    747   5   2   0"
      ]
     },
     "execution_count": 9,
     "metadata": {},
     "output_type": "execute_result"
    }
   ],
   "source": [
    "import matplotlib.pyplot as plt\n",
    "spam_count = data.groupby('label').count()\n",
    "spam_count"
   ]
  },
  {
   "cell_type": "code",
   "execution_count": 10,
   "metadata": {},
   "outputs": [
    {
     "data": {
      "text/plain": [
       "Text(0, 0.5, 'Number of Spam Texts')"
      ]
     },
     "execution_count": 10,
     "metadata": {},
     "output_type": "execute_result"
    },
    {
     "data": {
      "image/png": "[encoded data removed]",
      "text/plain": [
       "<Figure size 432x288 with 1 Axes>"
      ]
     },
     "metadata": {
      "needs_background": "light"
     },
     "output_type": "display_data"
    }
   ],
   "source": [
    "plt.bar(spam_count.index.values, spam_count['text'])\n",
    "plt.xlabel('Spam Label')\n",
    "plt.ylabel('Number of Spam Texts')"
   ]
  },
  {
   "cell_type": "code",
   "execution_count": 13,
   "metadata": {},
   "outputs": [],
   "source": [
    "import nltk\n",
    "stop_words = nltk.corpus.stopwords.words('english')"
   ]
  },
  {
   "cell_type": "code",
   "execution_count": 14,
   "metadata": {},
   "outputs": [],
   "source": [
    "text_table = data.text"
   ]
  },
  {
   "cell_type": "code",
   "execution_count": 15,
   "metadata": {},
   "outputs": [],
   "source": [
    "text_table = text_table.apply(lambda x: ' '.join(\n",
    "    term for term in x.split() if term not in set(stop_words))\n",
    ")\n",
    "text_table = text_table.str.replace(r'\\b[\\w\\-.]+?@\\w+?\\.\\w{2,4}\\b',\n",
    "                                   'emailaddr')\n",
    "text_table = text_table.str.replace(r'(https[s]?\\S+)|(\\w+\\.[A-Za-z]{2,4}\\s*)',\n",
    "                                   'httpaddr')\n",
    "text_table = text_table.str.replace(\n",
    "    r'\\b(\\+\\d{1,2}\\s)?\\d?[\\-(.]?\\d{3}\\)?[\\s.-]?\\d{3}[\\s.-]?\\d{4}\\b',\n",
    "    'phonenumbr')\n",
    "text_table = text_table.str.replace(r'\\d+(\\.\\d+)?','numbr')\n",
    "text_table = text_table.str.lower()\n",
    "text_table = text_table.str.replace(r'[^\\w\\d\\s]',' ')\n",
    "text_table = text_table.str.replace(r'\\s+',' ')\n",
    "text_table = text_table.str.replace(r'^\\s+|\\s+?$','')"
   ]
  },
  {
   "cell_type": "code",
   "execution_count": 16,
   "metadata": {},
   "outputs": [],
   "source": [
    "porter = nltk.PorterStemmer()\n",
    "data.text = text_table.apply(lambda x: ' '.join(\n",
    "    porter.stem(term) for term in x.split())\n",
    ")"
   ]
  },
  {
   "cell_type": "code",
   "execution_count": 15,
   "metadata": {},
   "outputs": [
    {
     "data": {
      "text/plain": [
       "<5572x7758 sparse matrix of type '<class 'numpy.int64'>'\n",
       "\twith 44881 stored elements in Compressed Sparse Row format>"
      ]
     },
     "execution_count": 15,
     "metadata": {},
     "output_type": "execute_result"
    }
   ],
   "source": [
    "from sklearn.feature_extraction.text import CountVectorizer\n",
    "from nltk.tokenize import RegexpTokenizer\n",
    "token = RegexpTokenizer(r'[a-zA-Z0-9]+')\n",
    "cv = CountVectorizer(lowercase=True,stop_words='english',ngram_range=(1,1),tokenizer=token.tokenize)\n",
    "text1=cv.fit_transform(text_table)\n",
    "text1"
   ]
  },
  {
   "cell_type": "code",
   "execution_count": 16,
   "metadata": {},
   "outputs": [],
   "source": [
    "porter = nltk.PorterStemmer()\n",
    "text_table2 = text_table.apply(lambda x: ' '.join(\n",
    "    porter.stem(term) for term in x.split())\n",
    ")"
   ]
  },
  {
   "cell_type": "code",
   "execution_count": 17,
   "metadata": {},
   "outputs": [
    {
     "data": {
      "text/plain": [
       "<5572x6464 sparse matrix of type '<class 'numpy.int64'>'\n",
       "\twith 45140 stored elements in Compressed Sparse Row format>"
      ]
     },
     "execution_count": 17,
     "metadata": {},
     "output_type": "execute_result"
    }
   ],
   "source": [
    "text2=cv.fit_transform(text_table2)\n",
    "text2"
   ]
  },
  {
   "cell_type": "code",
   "execution_count": 18,
   "metadata": {},
   "outputs": [],
   "source": [
    "s=' '.join(data.text)\n",
    "str_list = s.lower().split()\n",
    "unique_words = set(str_list)"
   ]
  },
  {
   "cell_type": "code",
   "execution_count": 19,
   "metadata": {},
   "outputs": [],
   "source": [
    "dictwords = dict()\n",
    "for words in unique_words:\n",
    "    dictwords[words] = [str_list.count(words)]"
   ]
  },
  {
   "cell_type": "code",
   "execution_count": 20,
   "metadata": {},
   "outputs": [],
   "source": [
    "dataham = data[data.label == 'ham']"
   ]
  },
  {
   "cell_type": "code",
   "execution_count": 21,
   "metadata": {},
   "outputs": [],
   "source": [
    "dataspam = data[data.label == 'spam']"
   ]
  },
  {
   "cell_type": "code",
   "execution_count": 22,
   "metadata": {},
   "outputs": [],
   "source": [
    "sham = ' '.join(dataham.text)\n",
    "sspam = ' '.join(dataspam.text)\n",
    "sham_list = sham.lower().split()\n",
    "sspam_list = sspam.lower().split()"
   ]
  },
  {
   "cell_type": "code",
   "execution_count": 23,
   "metadata": {},
   "outputs": [],
   "source": [
    "for words in unique_words :\n",
    "    iham=sham_list.count(words)\n",
    "    ispam=sspam_list.count(words)\n",
    "    dictwords[words].append(iham)\n",
    "    dictwords[words].append(ispam)\n",
    "    dictwords[words].append(ispam-iham)\n",
    "    "
   ]
  },
  {
   "cell_type": "code",
   "execution_count": 24,
   "metadata": {},
   "outputs": [],
   "source": [
    "sortfreq = sorted(dictwords.items(), key=lambda x: x[1][3], reverse=True)"
   ]
  },
  {
   "cell_type": "code",
   "execution_count": 25,
   "metadata": {},
   "outputs": [
    {
     "data": {
      "text/plain": [
       "[('numbr', [2458, 871, 1587, 716]),\n",
       " ('phonenumbr', [407, 1, 406, 405]),\n",
       " ('å', [300, 4, 296, 292]),\n",
       " ('free', [282, 59, 223, 164]),\n",
       " ('txt', [186, 14, 172, 158]),\n",
       " ('numbrp', [151, 1, 150, 149]),\n",
       " ('mobil', [152, 14, 138, 124]),\n",
       " ('claim', [114, 0, 114, 114]),\n",
       " ('prize', [94, 0, 94, 94]),\n",
       " ('tone', [85, 0, 85, 85]),\n",
       " ('call', [660, 289, 371, 82]),\n",
       " ('stop', [166, 45, 121, 76]),\n",
       " ('uk', [73, 1, 72, 71]),\n",
       " ('servic', [78, 5, 73, 68]),\n",
       " ('nokia', [73, 3, 70, 67]),\n",
       " ('award', [67, 1, 66, 65]),\n",
       " ('cash', [89, 13, 76, 63]),\n",
       " ('repli', [162, 50, 112, 62]),\n",
       " ('to', [107, 24, 83, 59]),\n",
       " ('text', [229, 86, 143, 57]),\n",
       " ('urgent', [69, 6, 63, 57]),\n",
       " ('guarante', [50, 0, 50, 50]),\n",
       " ('contact', [75, 14, 61, 47]),\n",
       " ('win', [78, 17, 61, 44]),\n",
       " ('cs', [44, 0, 44, 44]),\n",
       " ('min', [115, 36, 79, 43]),\n",
       " ('collect', [60, 9, 51, 42]),\n",
       " ('custom', [62, 11, 51, 40]),\n",
       " ('numbrppm', [40, 0, 40, 40]),\n",
       " ('httpaddr', [113, 38, 75, 37]),\n",
       " ('rington', [37, 0, 37, 37]),\n",
       " ('voucher', [38, 1, 37, 36]),\n",
       " ('rate', [42, 3, 39, 36]),\n",
       " ('your', [135, 50, 85, 35]),\n",
       " ('draw', [45, 5, 40, 35]),\n",
       " ('per', [58, 12, 46, 34]),\n",
       " ('latest', [40, 3, 37, 34]),\n",
       " ('landlin', [36, 2, 34, 32]),\n",
       " ('camera', [38, 3, 35, 32]),\n",
       " ('offer', [49, 9, 40, 31]),\n",
       " ('video', [35, 2, 33, 31]),\n",
       " ('chat', [61, 15, 46, 31]),\n",
       " ('code', [31, 1, 30, 29]),\n",
       " ('won', [28, 0, 28, 28]),\n",
       " ('receiv', [46, 9, 37, 28]),\n",
       " ('line', [47, 10, 37, 27]),\n",
       " ('poli', [27, 0, 27, 27]),\n",
       " ('await', [28, 1, 27, 26]),\n",
       " ('select', [36, 5, 31, 26]),\n",
       " ('mob', [26, 0, 26, 26]),\n",
       " ('appli', [34, 4, 30, 26]),\n",
       " ('entri', [26, 0, 26, 26]),\n",
       " ('httpaddrhttpaddr', [30, 2, 28, 26]),\n",
       " ('po', [33, 4, 29, 25]),\n",
       " ('box', [35, 5, 30, 25]),\n",
       " ('wk', [40, 8, 32, 24]),\n",
       " ('weekli', [24, 0, 24, 24]),\n",
       " ('orang', [32, 4, 28, 24]),\n",
       " ('valid', [23, 0, 23, 23]),\n",
       " ('network', [34, 6, 28, 22]),\n",
       " ('nation', [22, 0, 22, 22]),\n",
       " ('bonu', [21, 0, 21, 21]),\n",
       " ('sae', [21, 0, 21, 21]),\n",
       " ('http', [21, 0, 21, 21]),\n",
       " ('deliveri', [22, 1, 21, 20]),\n",
       " ('attempt', [24, 2, 22, 20]),\n",
       " ('unsubscrib', [19, 0, 19, 19]),\n",
       " ('pound', [28, 5, 23, 18]),\n",
       " ('club', [20, 1, 19, 18]),\n",
       " ('privat', [19, 1, 18, 17]),\n",
       " ('cost', [41, 12, 29, 17]),\n",
       " ('chanc', [41, 12, 29, 17]),\n",
       " ('expir', [19, 1, 18, 17]),\n",
       " ('holiday', [47, 15, 32, 17]),\n",
       " ('pobox', [16, 0, 16, 16]),\n",
       " ('identifi', [16, 0, 16, 16]),\n",
       " ('mobileupdnumbr', [16, 0, 16, 16]),\n",
       " ('opt', [18, 1, 17, 16]),\n",
       " ('boxnumbr', [16, 0, 16, 16]),\n",
       " ('reveal', [18, 1, 17, 16]),\n",
       " ('music', [24, 4, 20, 16]),\n",
       " ('winner', [16, 0, 16, 16]),\n",
       " ('date', [42, 13, 29, 16]),\n",
       " ('ltd', [16, 0, 16, 16]),\n",
       " ('land', [20, 2, 18, 16]),\n",
       " ('numbrst', [41, 13, 28, 15]),\n",
       " ('www', [15, 0, 15, 15]),\n",
       " ('poboxnumbr', [15, 0, 15, 15]),\n",
       " ('numbrland', [15, 0, 15, 15]),\n",
       " ('camcord', [15, 0, 15, 15]),\n",
       " ('game', [41, 13, 28, 15]),\n",
       " ('suitenumbr', [15, 0, 15, 15]),\n",
       " ('pic', [38, 12, 26, 14]),\n",
       " ('freemsg', [14, 0, 14, 14]),\n",
       " ('oper', [16, 1, 15, 14]),\n",
       " ('statement', [18, 2, 16, 14]),\n",
       " ('wkli', [14, 0, 14, 14]),\n",
       " ('numbrhr', [28, 7, 21, 14]),\n",
       " ('numbrmth', [14, 0, 14, 14]),\n",
       " ('colour', [26, 6, 20, 14])]"
      ]
     },
     "execution_count": 25,
     "metadata": {},
     "output_type": "execute_result"
    }
   ],
   "source": [
    "dictfreq = sortfreq[:100]\n",
    "len(dictfreq)\n",
    "dictfreq"
   ]
  },
  {
   "cell_type": "code",
   "execution_count": 26,
   "metadata": {},
   "outputs": [],
   "source": [
    "from sklearn.feature_extraction.text import CountVectorizer\n",
    "from nltk.tokenize import RegexpTokenizer\n",
    "token = RegexpTokenizer(r'[a-zA-Z0-9]+')\n",
    "cv = CountVectorizer(lowercase=True,stop_words='english',ngram_range=(1,1),tokenizer=token.tokenize)\n",
    "text_counts=cv.fit_transform(data['text'])"
   ]
  },
  {
   "cell_type": "code",
   "execution_count": null,
   "metadata": {},
   "outputs": [],
   "source": [
    "from sklearn.model_selection import train_test_split\n",
    "x_train, x_test, y_train, y_test = train_test_split(text_counts, data['label'], test_size=0.1, random_state=1)"
   ]
  },
  {
   "cell_type": "code",
   "execution_count": null,
   "metadata": {},
   "outputs": [
    {
     "name": "stdout",
     "output_type": "stream",
     "text": [
      "MultinomialNB Accuracy: 0.9838709677419355\n"
     ]
    }
   ],
   "source": [
    "from sklearn.naive_bayes import MultinomialNB\n",
    "from sklearn import metrics\n",
    "clf = MultinomialNB().fit(x_train, y_train)\n",
    "predicted=clf.predict(x_test)\n",
    "print('MultinomialNB Accuracy:',metrics.accuracy_score(y_test,predicted))"
   ]
  },
  {
   "cell_type": "code",
   "execution_count": null,
   "metadata": {},
   "outputs": [
    {
     "name": "stdout",
     "output_type": "stream",
     "text": [
      "Top terms per cluster:\n",
      "Cluster 0:\n",
      " climbing\n",
      " cat\n",
      " ninja\n",
      " eating\n",
      " impressed\n",
      " google\n",
      " feedback\n",
      " face\n",
      " extension\n",
      " ve\n",
      "Cluster 1:\n",
      " google\n",
      " best\n",
      " translate\n",
      " app\n",
      " feedback\n",
      " impressed\n",
      " map\n",
      " incredible\n",
      " ve\n",
      " taken\n"
     ]
    }
   ],
   "source": [
    "from sklearn.feature_extraction.text import TfidfVectorizer\n",
    "from sklearn.cluster import KMeans\n",
    "from sklearn.metrics import adjusted_rand_score\n",
    "\n",
    "documents = [\"this litlle kitty came to play when I was eating at a restarant.\",\n",
    "            \"Merley. has the best squooshy kitten belly\",\n",
    "            \"Google Translate app is incredible.\",\n",
    "            \"If you open 100 tab in google you get a smiley face.\",\n",
    "            \"Best c at photo I've ever taken.\",\n",
    "            \"Climbing ninja cat.\",\n",
    "            \"Impressed with google map feedback.\",\n",
    "            \"Key promoter extension for Google Chrome.\"]\n",
    "\n",
    "vectorizer = TfidfVectorizer(stop_words='english')\n",
    "X = vectorizer.fit_transform(documents)\n",
    "\n",
    "true_k = 2\n",
    "model = KMeans(n_clusters=true_k, init='k-means++', max_iter=100, n_init=1)\n",
    "model.fit(X)\n",
    "\n",
    "#------------------------------------------------------------\n",
    "\n",
    "print(\"Top terms per cluster:\")\n",
    "order_centroids = model.cluster_centers_.argsort()[:, ::-1]\n",
    "terms = vectorizer.get_feature_names()\n",
    "for i in range(true_k):\n",
    "    print(\"Cluster %d:\" % i),\n",
    "    for ind in order_centroids[i, :10]:\n",
    "        print(' %s' % terms[ind]),\n",
    "    print"
   ]
  },
  {
   "cell_type": "code",
   "execution_count": null,
   "metadata": {},
   "outputs": [],
   "source": [
    "from sklearn.preprocessing import LabelEncoder\n",
    "lb_make = LabelEncoder()\n",
    "data[\"label_code\"] = lb_make.fit_transform(data['label'])"
   ]
  },
  {
   "cell_type": "code",
   "execution_count": null,
   "metadata": {},
   "outputs": [],
   "source": [
    "from sklearn.model_selection import train_test_split\n",
    "x_train, x_test, y_train, y_test = train_test_split(text_counts, data['label_code'], test_size=0.1, random_state=1)"
   ]
  },
  {
   "cell_type": "code",
   "execution_count": null,
   "metadata": {},
   "outputs": [
    {
     "name": "stderr",
     "output_type": "stream",
     "text": [
      "Using TensorFlow backend.\n"
     ]
    },
    {
     "name": "stdout",
     "output_type": "stream",
     "text": [
      "WARNING:tensorflow:From C:\\Users\\asus\\Anaconda3a\\lib\\site-packages\\tensorflow\\python\\framework\\op_def_library.py:263: colocate_with (from tensorflow.python.framework.ops) is deprecated and will be removed in a future version.\n",
      "Instructions for updating:\n",
      "Colocations handled automatically by placer.\n"
     ]
    }
   ],
   "source": [
    "from keras.models import Sequential\n",
    "from keras import layers\n",
    "input_dim = x_train.shape[1]\n",
    "model = Sequential()\n",
    "model.add(layers.Dense(10, input_dim=input_dim, activation='relu'))\n",
    "model.add(layers.Dense(1, activation='sigmoid'))"
   ]
  },
  {
   "cell_type": "code",
   "execution_count": null,
   "metadata": {},
   "outputs": [],
   "source": [
    "model.compile(loss='binary_crossentropy', optimizer='adam', metrics=['accuracy'])"
   ]
  },
  {
   "cell_type": "code",
   "execution_count": null,
   "metadata": {},
   "outputs": [
    {
     "name": "stdout",
     "output_type": "stream",
     "text": [
      "_________________________________________________________________\n",
      "Layer (type)                 Output Shape              Param #   \n",
      "=================================================================\n",
      "dense_1 (Dense)              (None, 10)                64650     \n",
      "_________________________________________________________________\n",
      "dense_2 (Dense)              (None, 1)                 11        \n",
      "=================================================================\n",
      "Total params: 64,661\n",
      "Trainable params: 64,661\n",
      "Non-trainable params: 0\n",
      "_________________________________________________________________\n"
     ]
    }
   ],
   "source": [
    "model.summary()"
   ]
  },
  {
   "cell_type": "code",
   "execution_count": null,
   "metadata": {},
   "outputs": [
    {
     "data": {
      "text/plain": [
       "5240    0\n",
       "544     0\n",
       "2653    0\n",
       "1139    0\n",
       "2045    0\n",
       "1225    0\n",
       "2527    0\n",
       "4269    0\n",
       "3856    0\n",
       "3530    0\n",
       "513     0\n",
       "2684    0\n",
       "906     1\n",
       "3872    0\n",
       "4805    0\n",
       "4171    0\n",
       "2037    0\n",
       "1884    0\n",
       "3023    0\n",
       "62      0\n",
       "2075    0\n",
       "3725    0\n",
       "1785    0\n",
       "108     0\n",
       "517     1\n",
       "684     0\n",
       "778     0\n",
       "45      0\n",
       "2305    0\n",
       "3792    0\n",
       "       ..\n",
       "1031    0\n",
       "1110    0\n",
       "1888    0\n",
       "3550    0\n",
       "1527    0\n",
       "753     0\n",
       "3049    0\n",
       "2628    0\n",
       "562     0\n",
       "4764    0\n",
       "3562    1\n",
       "252     0\n",
       "2516    0\n",
       "2962    0\n",
       "4453    0\n",
       "5374    0\n",
       "5396    0\n",
       "1202    0\n",
       "3462    0\n",
       "2797    0\n",
       "4225    0\n",
       "144     0\n",
       "5056    0\n",
       "2895    1\n",
       "2763    0\n",
       "905     0\n",
       "5192    0\n",
       "3980    0\n",
       "235     0\n",
       "5157    0\n",
       "Name: label_code, Length: 5014, dtype: int32"
      ]
     },
     "execution_count": 35,
     "metadata": {},
     "output_type": "execute_result"
    }
   ],
   "source": [
    "y_train"
   ]
  },
  {
   "cell_type": "code",
   "execution_count": null,
   "metadata": {},
   "outputs": [
    {
     "name": "stdout",
     "output_type": "stream",
     "text": [
      "WARNING:tensorflow:From C:\\Users\\asus\\Anaconda3a\\lib\\site-packages\\tensorflow\\python\\ops\\math_ops.py:3066: to_int32 (from tensorflow.python.ops.math_ops) is deprecated and will be removed in a future version.\n",
      "Instructions for updating:\n",
      "Use tf.cast instead.\n",
      "Train on 4512 samples, validate on 502 samples\n",
      "Epoch 1/3\n",
      "4512/4512 [==============================] - 7s 1ms/step - loss: 0.4247 - acc: 0.9466 - val_loss: 0.2183 - val_acc: 0.9761\n",
      "Epoch 2/3\n",
      "4512/4512 [==============================] - 2s 456us/step - loss: 0.1507 - acc: 0.9829 - val_loss: 0.0995 - val_acc: 0.9861\n",
      "Epoch 3/3\n",
      "4512/4512 [==============================] - 2s 435us/step - loss: 0.0764 - acc: 0.9900 - val_loss: 0.0613 - val_acc: 0.9900\n"
     ]
    }
   ],
   "source": [
    "history = model.fit(x_train, y_train, batch_size=32, epochs=3, verbose=1, validation_split=0.1)"
   ]
  },
  {
   "cell_type": "code",
   "execution_count": null,
   "metadata": {},
   "outputs": [
    {
     "name": "stdout",
     "output_type": "stream",
     "text": [
      "Training Accuracy: 0.9924\n",
      "Testing Accuracy: 0.9857\n"
     ]
    }
   ],
   "source": [
    "loss, accuracy = model.evaluate(x_train, y_train, verbose=False)\n",
    "print(\"Training Accuracy: {:.4f}\".format(accuracy))\n",
    "loss, accuracy = model.evaluate(x_test, y_test, verbose=False)\n",
    "print(\"Testing Accuracy: {:.4f}\".format(accuracy))"
   ]
  },
  {
   "cell_type": "code",
   "execution_count": null,
   "metadata": {},
   "outputs": [],
   "source": [
    "from keras.layers import Embedding, Bidirectional, LSTM, Dropout, Dense\n",
    "model2 = Sequential()\n",
    "model2.add(Embedding(len(unique_words), 50))\n",
    "model2.add(Bidirectional(LSTM(32)))\n",
    "model2.add(Dense(1, activation='sigmoid'))"
   ]
  },
  {
   "cell_type": "code",
   "execution_count": null,
   "metadata": {},
   "outputs": [
    {
     "name": "stdout",
     "output_type": "stream",
     "text": [
      "Train on 4512 samples, validate on 502 samples\n",
      "Epoch 1/2\n",
      "3072/4512 [===================>..........] - ETA: 25:52 - loss: 0.4353 - acc: 0.8617"
     ]
    }
   ],
   "source": [
    "model2.compile(loss='binary_crossentropy', optimizer='adam', metrics=['accuracy'])\n",
    "model2.fit(x_train, y_train, batch_size=32, epochs=2, verbose=1, validation_split=0.1)"
   ]
  },
  {
   "cell_type": "code",
   "execution_count": null,
   "metadata": {},
   "outputs": [],
   "source": [
    "loss, accuracy = model2.evaluate(x_train, y_train, verbose=False)\n",
    "print('Training Accuracy: {:.4f}'.format(accuracy))\n",
    "loss, accuracy = model2.evaluate(x_test, y_test, verbose=False)\n",
    "print('Testing Accuracy: {:.4f}'.format(accuracy))"
   ]
  },
  {
   "cell_type": "code",
   "execution_count": null,
   "metadata": {},
   "outputs": [],
   "source": []
  },
  {
   "cell_type": "code",
   "execution_count": null,
   "metadata": {},
   "outputs": [],
   "source": []
  },
  {
   "cell_type": "code",
   "execution_count": null,
   "metadata": {},
   "outputs": [],
   "source": []
  }
 ],
 "metadata": {
  "kernelspec": {
   "display_name": "Python 3",
   "language": "python",
   "name": "python3"
  },
  "language_info": {
   "codemirror_mode": {
    "name": "ipython",
    "version": 3
   },
   "file_extension": ".py",
   "mimetype": "text/x-python",
   "name": "python",
   "nbconvert_exporter": "python",
   "pygments_lexer": "ipython3",
   "version": "3.7.3"
  }
 },
 "nbformat": 4,
 "nbformat_minor": 2
}
